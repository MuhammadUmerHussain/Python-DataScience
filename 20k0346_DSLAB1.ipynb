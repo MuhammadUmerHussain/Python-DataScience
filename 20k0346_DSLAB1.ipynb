{
  "nbformat": 4,
  "nbformat_minor": 0,
  "metadata": {
    "colab": {
      "provenance": []
    },
    "kernelspec": {
      "name": "python3",
      "display_name": "Python 3"
    },
    "language_info": {
      "name": "python"
    }
  },
  "cells": [
    {
      "cell_type": "markdown",
      "source": [
        "TASK2:"
      ],
      "metadata": {
        "id": "N2IJbRN2GZxU"
      }
    },
    {
      "cell_type": "code",
      "source": [
        "import math as m\n",
        "\n",
        "def determinant_function():\n",
        "    a=float(input(\"Enter A\"))\n",
        "    b=float(input(\"Enter B\"))\n",
        "    c=float(input(\"Enter C\"))\n",
        "   \n",
        "    d=float(m.pow(b,2)-(4*a*c))\n",
        "    print(\"Determinent is \" , d)\n",
        "    if(d<0):\n",
        "        print(\"Complex Root!\")\n",
        "    elif(d==0):\n",
        "        d=(-b)/(2*a)\n",
        "        print(d)\n",
        "    else:\n",
        "        d1=((-b)+((m.sqrt((b*b)-(4*a*c)))))/(2*a)\n",
        "        d2=(-b-((m.sqrt((b*b)-(4*a*c)))))/(2*a)\n",
        "        print(d1)\n",
        "        print(\"2nd value: \",d2)\n",
        "determinant_function() "
      ],
      "metadata": {
        "colab": {
          "base_uri": "https://localhost:8080/"
        },
        "id": "8M-Jgm17GI8M",
        "outputId": "4854cb2e-4134-477d-9684-254fae25e1c4"
      },
      "execution_count": 11,
      "outputs": [
        {
          "output_type": "stream",
          "name": "stdout",
          "text": [
            "Enter A1\n",
            "Enter B2\n",
            "Enter C3\n",
            "Determinent is  -8.0\n",
            "Complex Root!\n"
          ]
        }
      ]
    },
    {
      "cell_type": "markdown",
      "source": [
        "TASK3:"
      ],
      "metadata": {
        "id": "PYDce9eWGdMK"
      }
    },
    {
      "cell_type": "code",
      "execution_count": null,
      "metadata": {
        "colab": {
          "base_uri": "https://localhost:8080/"
        },
        "id": "lD5lAAFWw_zN",
        "outputId": "080bd6c7-1aa3-4970-8a59-1154fd870895"
      },
      "outputs": [
        {
          "output_type": "stream",
          "name": "stdout",
          "text": [
            "4\n",
            "3\n"
          ]
        }
      ],
      "source": [
        "def smaller(date,y,z):\n",
        "\n",
        "  \n",
        "  count=0\n",
        "  \n",
        "  for year in date:\n",
        "    \n",
        "    if year<z:\n",
        "      count=count+1\n",
        "      \n",
        "  return count     \n",
        "date = [13, 56, 21, 45, 20, 43, 12, 43, 6]\n",
        "print(smaller(date,len(date),21))\n",
        "print(smaller(date,len(date),20))\n"
      ]
    },
    {
      "cell_type": "markdown",
      "source": [
        "TASK4:"
      ],
      "metadata": {
        "id": "cVelnFxfHDuK"
      }
    },
    {
      "cell_type": "code",
      "source": [
        "def remove_duplicates(list2):\n",
        "    list1=[set(list2)]\n",
        "    return list1\n",
        "\n",
        "list1= [12, 24, 35, 24, 88, 120, 155, 88, 120, 155]\n",
        "print(remove_duplicates(list1))"
      ],
      "metadata": {
        "id": "G9EGG7bGHCrO"
      },
      "execution_count": null,
      "outputs": []
    },
    {
      "cell_type": "markdown",
      "source": [
        "TASK5"
      ],
      "metadata": {
        "id": "bqqgJ0XdHHAS"
      }
    },
    {
      "cell_type": "code",
      "source": [
        "def setFun(l1,l2):\n",
        "  l3=set(l1 and l2)\n",
        "  return l3\n",
        "list1 = [1,3,6,78,35,55]\n",
        "list2 = [12,24,35,24,88,120,155]\n",
        "\n",
        "\n",
        "\n",
        "print( setFun(list1,list2) )"
      ],
      "metadata": {
        "colab": {
          "base_uri": "https://localhost:8080/"
        },
        "id": "tRJhV63uHGc3",
        "outputId": "c3779698-3058-4ff5-eb33-6ca974662607"
      },
      "execution_count": 12,
      "outputs": [
        {
          "output_type": "stream",
          "name": "stdout",
          "text": [
            "{35, 12, 155, 24, 88, 120}\n"
          ]
        }
      ]
    },
    {
      "cell_type": "markdown",
      "source": [
        "TASK6"
      ],
      "metadata": {
        "id": "vLhsHtpzGhB-"
      }
    },
    {
      "cell_type": "code",
      "source": [
        "def BMICAl(weight,height):\n",
        "\n",
        "  h=height*height\n",
        "  BMI=weight/h\n",
        "  return BMI\n",
        "\n",
        "\n",
        "weight=float(input(\"Enter Weight \"))\n",
        "height=float(input(\"Enter Height \"))\n",
        "print(BMICAl(weight,height))\n",
        "\n",
        "\n",
        "\n",
        "\n",
        "\n",
        "\n",
        "\n",
        "\n",
        "\n"
      ],
      "metadata": {
        "id": "QAwIjSlzxS_P",
        "colab": {
          "base_uri": "https://localhost:8080/"
        },
        "outputId": "f8c7562b-e5dd-4b4a-9fcc-306215456b22"
      },
      "execution_count": null,
      "outputs": [
        {
          "output_type": "stream",
          "name": "stdout",
          "text": [
            "Enter Weight 12\n",
            "Enter Height 12\n",
            "0.08333333333333333\n"
          ]
        }
      ]
    },
    {
      "cell_type": "markdown",
      "source": [
        "TASK7:"
      ],
      "metadata": {
        "id": "dkcORi9pGs5E"
      }
    },
    {
      "cell_type": "code",
      "source": [
        "growth_multiplier=1.3\n",
        "\n",
        "year=7\n",
        "\n",
        "yearly_amount=1000\n",
        "\n",
        "print(\"Revenue after 7 years \",year*yearly_amount*growth_multiplier)"
      ],
      "metadata": {
        "colab": {
          "base_uri": "https://localhost:8080/"
        },
        "id": "VWsZv9xbjTJe",
        "outputId": "0d876544-6050-4d2b-ad5c-0c82ee8d9bc2"
      },
      "execution_count": null,
      "outputs": [
        {
          "output_type": "stream",
          "name": "stdout",
          "text": [
            "Revenue after 7 years  9100.0\n"
          ]
        }
      ]
    },
    {
      "cell_type": "markdown",
      "source": [
        "TASK8:"
      ],
      "metadata": {
        "id": "u5TGtb0UGwvv"
      }
    },
    {
      "cell_type": "code",
      "source": [
        "mass= float(input(\"Enter mass \"))\n",
        "MS= (mass*2.2)/14\n",
        "print(\"Store in stone:\", MS)"
      ],
      "metadata": {
        "id": "153WD-pjjkvu",
        "colab": {
          "base_uri": "https://localhost:8080/"
        },
        "outputId": "67101319-fad3-46d0-84c2-786f094d56ee"
      },
      "execution_count": 2,
      "outputs": [
        {
          "output_type": "stream",
          "name": "stdout",
          "text": [
            "Enter mass 12\n",
            "Store in stone: 1.885714285714286\n"
          ]
        }
      ]
    },
    {
      "cell_type": "markdown",
      "source": [
        "TASK9"
      ],
      "metadata": {
        "id": "fcm98QhGGzdU"
      }
    },
    {
      "cell_type": "code",
      "source": [
        "list1= []\n",
        "list1.extend([\"hall \" + str(11.3),\"kitchen \" + str(6),\"bedroom \" + str(12.5)] )\n",
        "\n",
        "print(list1)\n"
      ],
      "metadata": {
        "colab": {
          "base_uri": "https://localhost:8080/"
        },
        "id": "1aUp9hFnBu8e",
        "outputId": "b8cb9bdf-f220-47c3-908f-cd23ed3c678c"
      },
      "execution_count": 4,
      "outputs": [
        {
          "output_type": "stream",
          "name": "stdout",
          "text": [
            "['hall 11.3', 'kitchen 6', 'bedroom 12.5']\n"
          ]
        }
      ]
    },
    {
      "cell_type": "markdown",
      "source": [
        "TASK10:"
      ],
      "metadata": {
        "id": "0UzPMeEeG2-C"
      }
    },
    {
      "cell_type": "code",
      "source": [
        "student1 = {\"name\": \"Umer\", \"scores\": [3.5, 3.8, 4.0, 3.9, 4.0, 3.8]}\n",
        "student2 = {\"name\": \"Hussain\", \"scores\": [3.2, 2.8, 3.0, 2.5, 2.7, 3.1]}\n",
        "student3 = {\"name\": \"Zoha\", \"scores\": [2.8, 2.9, 3.1, 3.0, 2.9, 2.8]}\n",
        "\n",
        "students = [student1, student2, student3]\n",
        "\n",
        "for student in students:\n",
        "    print(\"Student:\", student[\"name\"])\n",
        "    print(\"Scores:\", student[\"scores\"])\n",
        "    print(\"GPA:\", sum(student[\"scores\"]) / len(student[\"scores\"]))\n",
        "    print()"
      ],
      "metadata": {
        "colab": {
          "base_uri": "https://localhost:8080/"
        },
        "id": "qw4GOrqIDjgw",
        "outputId": "5d6784b4-e5f5-4bbf-ff77-e0aa921d0533"
      },
      "execution_count": 5,
      "outputs": [
        {
          "output_type": "stream",
          "name": "stdout",
          "text": [
            "Student: Umer\n",
            "Scores: [3.5, 3.8, 4.0, 3.9, 4.0, 3.8]\n",
            "GPA: 3.833333333333334\n",
            "\n",
            "Student: Hussain\n",
            "Scores: [3.2, 2.8, 3.0, 2.5, 2.7, 3.1]\n",
            "GPA: 2.8833333333333333\n",
            "\n",
            "Student: Zoha\n",
            "Scores: [2.8, 2.9, 3.1, 3.0, 2.9, 2.8]\n",
            "GPA: 2.9166666666666665\n",
            "\n"
          ]
        }
      ]
    },
    {
      "cell_type": "code",
      "source": [],
      "metadata": {
        "colab": {
          "base_uri": "https://localhost:8080/"
        },
        "id": "9XVNoFQKEWXZ",
        "outputId": "89e156ff-6484-44bc-875b-cdc84442795d"
      },
      "execution_count": 10,
      "outputs": [
        {
          "output_type": "stream",
          "name": "stdout",
          "text": [
            "[{35, 12, 155, 24, 88, 120}]\n"
          ]
        }
      ]
    }
  ]
}